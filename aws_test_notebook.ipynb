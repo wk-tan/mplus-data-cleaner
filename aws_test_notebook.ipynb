{
 "cells": [
  {
   "cell_type": "code",
   "execution_count": 23,
   "metadata": {},
   "outputs": [],
   "source": [
    "import pandas as pd\n",
    "import boto3\n",
    "from io import StringIO\n",
    "from dateutil.parser import parse\n",
    "from aws.mploader import LoadMP\n",
    "from aws.s3_loader import load_from_s3, get_latest_keypath\n",
    "from aws.s3 import create_s3_session\n",
    "s3=create_s3_session()"
   ]
  },
  {
   "cell_type": "code",
   "execution_count": 24,
   "metadata": {},
   "outputs": [],
   "source": [
    "date_str = get_latest_keypath()\n",
    "date_param = parse(date_str).strftime(\"%Y/%m/%d\")\n",
    "# df = load_from_s3(date_str)\n",
    "clean_df = LoadMP(date_str).fdf\n",
    "# df"
   ]
  },
  {
   "cell_type": "code",
   "execution_count": 30,
   "metadata": {},
   "outputs": [
    {
     "data": {
      "text/plain": [
       "'2021/05/06'"
      ]
     },
     "execution_count": 30,
     "metadata": {},
     "output_type": "execute_result"
    }
   ],
   "source": []
  },
  {
   "cell_type": "code",
   "execution_count": 31,
   "metadata": {},
   "outputs": [],
   "source": [
    "def write_clean_df(clean_df):\n",
    "    date_param = clean_df[\"Date\"][0].strftime(\"%Y/%m/%d\")\n",
    "    csv_buffer = StringIO()\n",
    "    clean_df.to_csv(csv_buffer)\n",
    "    s3.put_object(\n",
    "        Body=csv_buffer.getvalue(),\n",
    "        Bucket=\"malaysia-stock-eod-data\", \n",
    "        Key=f\"clean_mplus/{date_param}/data.csv\"\n",
    "    )"
   ]
  },
  {
   "cell_type": "code",
   "execution_count": 32,
   "metadata": {},
   "outputs": [
    {
     "data": {
      "text/plain": [
       "['clean_mplus/2021/05/06/data.csv']"
      ]
     },
     "execution_count": 32,
     "metadata": {},
     "output_type": "execute_result"
    }
   ],
   "source": [
    "keys = [\n",
    "        obj[\"Key\"]\n",
    "        for obj in s3.list_objects(Bucket=\"malaysia-stock-eod-data\")[\"Contents\"]\n",
    "        if obj[\"Key\"].split(\"/\")[0] == \"mplus\"\n",
    "    ]\n",
    "keys = [\n",
    "        obj[\"Key\"]\n",
    "        for obj in s3.list_objects(Bucket=\"malaysia-stock-eod-data\")[\"Contents\"]\n",
    "        if obj[\"Key\"].split(\"/\")[0] == \"clean_mplus\"\n",
    "    ]\n",
    "keys"
   ]
  },
  {
   "cell_type": "code",
   "execution_count": 2,
   "metadata": {},
   "outputs": [],
   "source": [
    "import os\n",
    "\n",
    "# Get environment variables\n",
    "# AWS_ACCESS_KEY_ID = os.getenv('AWS_ACCESS_KEY_ID')\n",
    "# AWS_SECRET_ACCESS_KEY = os.environ.get('AWS_SECRET_ACCESS_KEY')"
   ]
  },
  {
   "cell_type": "code",
   "execution_count": 3,
   "metadata": {},
   "outputs": [],
   "source": [
    "# session = boto3.Session(aws_access_key_id=AWS_ACCESS_KEY_ID, aws_secret_access_key=AWS_SECRET_ACCESS_KEY)\n",
    "# s3 = session.client(\"s3\", region_name = \"ap-southeast-1\")\n",
    "s3 = create_s3_session()\n",
    "# response = s3.upload_file(\n",
    "#     Filename = \"C:/Users/jy/20210505_170708564037.csv\",\n",
    "#     Bucket=\"malaysia-stock-eod-data\",\n",
    "#     Key=\"mplus/2021/05/05/data.csv\"\n",
    "# )"
   ]
  },
  {
   "cell_type": "code",
   "execution_count": 4,
   "metadata": {},
   "outputs": [],
   "source": [
    "keys = [obj[\"Key\"] for obj in s3.list_objects(Bucket=\"malaysia-stock-eod-data\")[\"Contents\"]]"
   ]
  },
  {
   "cell_type": "code",
   "execution_count": 5,
   "metadata": {},
   "outputs": [
    {
     "data": {
      "text/plain": [
       "['mplus/2021/05/05/data.csv', 'mplus/2021/05/06/data.csv']"
      ]
     },
     "execution_count": 5,
     "metadata": {},
     "output_type": "execute_result"
    }
   ],
   "source": [
    "keys"
   ]
  },
  {
   "cell_type": "code",
   "execution_count": 75,
   "metadata": {},
   "outputs": [],
   "source": [
    "response = s3.download_file(Filename = \"./tempdata.csv\", Bucket=\"malaysia-stock-eod-data\", Key=\"mplus/2021/05/05/data.csv\")"
   ]
  },
  {
   "cell_type": "code",
   "execution_count": 96,
   "metadata": {},
   "outputs": [
    {
     "data": {
      "text/plain": [
       "'20210505'"
      ]
     },
     "execution_count": 96,
     "metadata": {},
     "output_type": "execute_result"
    }
   ],
   "source": [
    "def parse_keypath(key):\n",
    "    return \"\".join(key.split(\"/\")[1:4])\n",
    "parse_keypath(keys[0])"
   ]
  },
  {
   "cell_type": "code",
   "execution_count": 81,
   "metadata": {},
   "outputs": [],
   "source": [
    "from dateutil.parser import parse\n",
    "\n",
    "\n",
    "def load_from_s3(date_str):\n",
    "    date_str = \"2020-01-05\"\n",
    "    date_dt =  parse(date_str)\n",
    "    date_param = date_dt.strftime(\"%Y/%m/%d\")\n",
    "    response = s3.get_object(Bucket=\"malaysia-stock-eod-data\", Key=f\"mplus/{date_param}/data.csv\")\n",
    "    csv_txt=response[\"Body\"].read().decode('cp1256')\n",
    "    df = pd.read_csv(StringIO(csv_txt), encoding=\"cp1256\")\n",
    "    return df\n"
   ]
  },
  {
   "cell_type": "code",
   "execution_count": 43,
   "metadata": {},
   "outputs": [],
   "source": [
    "csv_txt=response[\"Body\"].read().decode('cp1256')\n",
    "csv_file = StringIO(csv_txt)\n",
    "# df = pd.read_csv(csv_file, encoding=\"cp1256\")"
   ]
  },
  {
   "cell_type": "code",
   "execution_count": 47,
   "metadata": {},
   "outputs": [],
   "source": [
    "date = \"20210505\"\n",
    "df = LoadMP(csv_file, date).fdf"
   ]
  },
  {
   "cell_type": "code",
   "execution_count": 64,
   "metadata": {},
   "outputs": [],
   "source": [
    "cols = df.columns"
   ]
  },
  {
   "cell_type": "code",
   "execution_count": 49,
   "metadata": {},
   "outputs": [],
   "source": [
    "from trade.load.mongo import initiate_mongo"
   ]
  },
  {
   "cell_type": "code",
   "execution_count": 51,
   "metadata": {},
   "outputs": [],
   "source": [
    "client,coll = initiate_mongo()\n"
   ]
  },
  {
   "cell_type": "code",
   "execution_count": 60,
   "metadata": {},
   "outputs": [],
   "source": [
    "cols2 = list(coll.find_one().keys())"
   ]
  },
  {
   "cell_type": "code",
   "execution_count": 61,
   "metadata": {},
   "outputs": [
    {
     "data": {
      "text/plain": [
       "111"
      ]
     },
     "execution_count": 61,
     "metadata": {},
     "output_type": "execute_result"
    }
   ],
   "source": [
    "len(cols2)"
   ]
  },
  {
   "cell_type": "code",
   "execution_count": 65,
   "metadata": {},
   "outputs": [
    {
     "data": {
      "text/plain": [
       "['RSSVol']"
      ]
     },
     "execution_count": 65,
     "metadata": {},
     "output_type": "execute_result"
    }
   ],
   "source": [
    "[j for j in cols if j not in cols2]\n"
   ]
  },
  {
   "cell_type": "code",
   "execution_count": null,
   "metadata": {},
   "outputs": [],
   "source": []
  }
 ],
 "metadata": {
  "kernelspec": {
   "display_name": "Python 3",
   "language": "python",
   "name": "python3"
  },
  "language_info": {
   "codemirror_mode": {
    "name": "ipython",
    "version": 3
   },
   "file_extension": ".py",
   "mimetype": "text/x-python",
   "name": "python",
   "nbconvert_exporter": "python",
   "pygments_lexer": "ipython3",
   "version": "3.8.5"
  }
 },
 "nbformat": 4,
 "nbformat_minor": 4
}
